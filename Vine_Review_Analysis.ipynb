{
 "cells": [
  {
   "cell_type": "code",
   "execution_count": 24,
   "id": "c7b48d29",
   "metadata": {},
   "outputs": [],
   "source": [
    "import pandas as pd\n",
    "import numpy as np"
   ]
  },
  {
   "cell_type": "markdown",
   "id": "cbaa62d4",
   "metadata": {},
   "source": [
    "# Review Analysis"
   ]
  },
  {
   "cell_type": "code",
   "execution_count": 25,
   "id": "3126cece",
   "metadata": {},
   "outputs": [],
   "source": [
    "# File to Load\n",
    "review_data = \"vine_table.csv\""
   ]
  },
  {
   "cell_type": "code",
   "execution_count": 26,
   "id": "4179f6bf",
   "metadata": {},
   "outputs": [],
   "source": [
    "#read the CSV into a DataFrame\n",
    "review_data_df = pd.read_csv(review_data, low_memory=False)"
   ]
  },
  {
   "cell_type": "code",
   "execution_count": 28,
   "id": "5f2d961d",
   "metadata": {},
   "outputs": [],
   "source": [
    "# Filter the rows where total_votes is equal to or greater than 20\n",
    "filtered_rev_data = review_data_df[review_data_df[\"total_votes\"] >= 20]"
   ]
  },
  {
   "cell_type": "code",
   "execution_count": 32,
   "id": "5cfea397",
   "metadata": {},
   "outputs": [
    {
     "name": "stderr",
     "output_type": "stream",
     "text": [
      "C:\\Users\\natal\\anaconda3\\envs\\PythonData\\lib\\site-packages\\ipykernel_launcher.py:1: UserWarning: Boolean Series key will be reindexed to match DataFrame index.\n",
      "  \"\"\"Entry point for launching an IPython kernel.\n"
     ]
    }
   ],
   "source": [
    "#filter the new datafram to retireve the rows where helpfule_votes divided by total_votes is greater than or equal to 50%\n",
    "calc_rev_data = filtered_rev_data[review_data_df[\"Helpful_votes\"]/ review_data_df[\"total_votes\"] >= 0.5]\n"
   ]
  },
  {
   "cell_type": "markdown",
   "id": "44f8e0ca",
   "metadata": {},
   "source": [
    "## Paid Participant Reviews"
   ]
  },
  {
   "cell_type": "code",
   "execution_count": 40,
   "id": "112ea408",
   "metadata": {},
   "outputs": [
    {
     "data": {
      "text/html": [
       "<div>\n",
       "<style scoped>\n",
       "    .dataframe tbody tr th:only-of-type {\n",
       "        vertical-align: middle;\n",
       "    }\n",
       "\n",
       "    .dataframe tbody tr th {\n",
       "        vertical-align: top;\n",
       "    }\n",
       "\n",
       "    .dataframe thead th {\n",
       "        text-align: right;\n",
       "    }\n",
       "</style>\n",
       "<table border=\"1\" class=\"dataframe\">\n",
       "  <thead>\n",
       "    <tr style=\"text-align: right;\">\n",
       "      <th></th>\n",
       "      <th>review_id</th>\n",
       "      <th>star_rating</th>\n",
       "      <th>Helpful_votes</th>\n",
       "      <th>total_votes</th>\n",
       "      <th>vine</th>\n",
       "      <th>verified_purchase</th>\n",
       "    </tr>\n",
       "  </thead>\n",
       "  <tbody>\n",
       "    <tr>\n",
       "      <th>7585</th>\n",
       "      <td>R1MAOLI5FJHAFM</td>\n",
       "      <td>4</td>\n",
       "      <td>249.0</td>\n",
       "      <td>261.0</td>\n",
       "      <td>Y</td>\n",
       "      <td>N</td>\n",
       "    </tr>\n",
       "    <tr>\n",
       "      <th>13291</th>\n",
       "      <td>R9PYAUDIBJVEC</td>\n",
       "      <td>4</td>\n",
       "      <td>12.0</td>\n",
       "      <td>22.0</td>\n",
       "      <td>Y</td>\n",
       "      <td>N</td>\n",
       "    </tr>\n",
       "    <tr>\n",
       "      <th>23444</th>\n",
       "      <td>R6V9SHMMG5M8F</td>\n",
       "      <td>5</td>\n",
       "      <td>101.0</td>\n",
       "      <td>110.0</td>\n",
       "      <td>Y</td>\n",
       "      <td>N</td>\n",
       "    </tr>\n",
       "    <tr>\n",
       "      <th>38024</th>\n",
       "      <td>R37PVLT6ELL5J4</td>\n",
       "      <td>4</td>\n",
       "      <td>181.0</td>\n",
       "      <td>209.0</td>\n",
       "      <td>Y</td>\n",
       "      <td>N</td>\n",
       "    </tr>\n",
       "    <tr>\n",
       "      <th>88492</th>\n",
       "      <td>R2FSFGWZF24V9</td>\n",
       "      <td>4</td>\n",
       "      <td>50.0</td>\n",
       "      <td>51.0</td>\n",
       "      <td>Y</td>\n",
       "      <td>N</td>\n",
       "    </tr>\n",
       "    <tr>\n",
       "      <th>...</th>\n",
       "      <td>...</td>\n",
       "      <td>...</td>\n",
       "      <td>...</td>\n",
       "      <td>...</td>\n",
       "      <td>...</td>\n",
       "      <td>...</td>\n",
       "    </tr>\n",
       "    <tr>\n",
       "      <th>8887352</th>\n",
       "      <td>R1S2HIHNB0FJC0</td>\n",
       "      <td>2</td>\n",
       "      <td>180.0</td>\n",
       "      <td>196.0</td>\n",
       "      <td>Y</td>\n",
       "      <td>N</td>\n",
       "    </tr>\n",
       "    <tr>\n",
       "      <th>8887434</th>\n",
       "      <td>R3ADVLGTBP0TNX</td>\n",
       "      <td>4</td>\n",
       "      <td>36.0</td>\n",
       "      <td>43.0</td>\n",
       "      <td>Y</td>\n",
       "      <td>N</td>\n",
       "    </tr>\n",
       "    <tr>\n",
       "      <th>8910450</th>\n",
       "      <td>R9OB51UW8R4EW</td>\n",
       "      <td>3</td>\n",
       "      <td>13.0</td>\n",
       "      <td>23.0</td>\n",
       "      <td>Y</td>\n",
       "      <td>N</td>\n",
       "    </tr>\n",
       "    <tr>\n",
       "      <th>8912079</th>\n",
       "      <td>R3OT72XT5WKCYN</td>\n",
       "      <td>5</td>\n",
       "      <td>27.0</td>\n",
       "      <td>40.0</td>\n",
       "      <td>Y</td>\n",
       "      <td>N</td>\n",
       "    </tr>\n",
       "    <tr>\n",
       "      <th>8912399</th>\n",
       "      <td>R2Y9JUXDM65FZW</td>\n",
       "      <td>2</td>\n",
       "      <td>17.0</td>\n",
       "      <td>30.0</td>\n",
       "      <td>Y</td>\n",
       "      <td>N</td>\n",
       "    </tr>\n",
       "  </tbody>\n",
       "</table>\n",
       "<p>613 rows × 6 columns</p>\n",
       "</div>"
      ],
      "text/plain": [
       "              review_id star_rating  Helpful_votes  total_votes vine  \\\n",
       "7585     R1MAOLI5FJHAFM           4          249.0        261.0    Y   \n",
       "13291     R9PYAUDIBJVEC           4           12.0         22.0    Y   \n",
       "23444     R6V9SHMMG5M8F           5          101.0        110.0    Y   \n",
       "38024    R37PVLT6ELL5J4           4          181.0        209.0    Y   \n",
       "88492     R2FSFGWZF24V9           4           50.0         51.0    Y   \n",
       "...                 ...         ...            ...          ...  ...   \n",
       "8887352  R1S2HIHNB0FJC0           2          180.0        196.0    Y   \n",
       "8887434  R3ADVLGTBP0TNX           4           36.0         43.0    Y   \n",
       "8910450   R9OB51UW8R4EW           3           13.0         23.0    Y   \n",
       "8912079  R3OT72XT5WKCYN           5           27.0         40.0    Y   \n",
       "8912399  R2Y9JUXDM65FZW           2           17.0         30.0    Y   \n",
       "\n",
       "        verified_purchase  \n",
       "7585                    N  \n",
       "13291                   N  \n",
       "23444                   N  \n",
       "38024                   N  \n",
       "88492                   N  \n",
       "...                   ...  \n",
       "8887352                 N  \n",
       "8887434                 N  \n",
       "8910450                 N  \n",
       "8912079                 N  \n",
       "8912399                 N  \n",
       "\n",
       "[613 rows x 6 columns]"
      ]
     },
     "execution_count": 40,
     "metadata": {},
     "output_type": "execute_result"
    }
   ],
   "source": [
    "#filter the datafram to retireve the rows where a review was written as part of the vine program (YES)\n",
    "vine_program_yes = calc_rev_data[calc_rev_data[\"vine\"] == 'Y']\n",
    "vine_program_yes"
   ]
  },
  {
   "cell_type": "code",
   "execution_count": 48,
   "id": "cc96852a",
   "metadata": {},
   "outputs": [
    {
     "data": {
      "text/plain": [
       "613"
      ]
     },
     "execution_count": 48,
     "metadata": {},
     "output_type": "execute_result"
    }
   ],
   "source": [
    "#Total reviews of Paid Participants\n",
    "total_y_reviews = vine_program_yes.count()[\"review_id\"]\n",
    "total_y_reviews"
   ]
  },
  {
   "cell_type": "code",
   "execution_count": 67,
   "id": "ef3b16cf",
   "metadata": {},
   "outputs": [
    {
     "data": {
      "text/plain": [
       "222"
      ]
     },
     "execution_count": 67,
     "metadata": {},
     "output_type": "execute_result"
    }
   ],
   "source": [
    "#number of 5-star reviews of paid participants\n",
    "y_fivestar_reviews = vine_program_yes[(vine_program_yes[\"star_rating\"] == '5')].count()[\"review_id\"]\n",
    "y_fivestar_reviews"
   ]
  },
  {
   "cell_type": "code",
   "execution_count": 70,
   "id": "dbc15b1a",
   "metadata": {},
   "outputs": [
    {
     "data": {
      "text/plain": [
       "36.215334420880914"
      ]
     },
     "execution_count": 70,
     "metadata": {},
     "output_type": "execute_result"
    }
   ],
   "source": [
    "#precentage of five star reviews against the total of paid participants\n",
    "yes_percent = y_fivestar_reviews / total_y_reviews * 100\n",
    "yes_percent"
   ]
  },
  {
   "cell_type": "markdown",
   "id": "5c863da7",
   "metadata": {},
   "source": [
    "## Unpaid Participant Reviews"
   ]
  },
  {
   "cell_type": "code",
   "execution_count": 43,
   "id": "d06c0582",
   "metadata": {},
   "outputs": [
    {
     "data": {
      "text/html": [
       "<div>\n",
       "<style scoped>\n",
       "    .dataframe tbody tr th:only-of-type {\n",
       "        vertical-align: middle;\n",
       "    }\n",
       "\n",
       "    .dataframe tbody tr th {\n",
       "        vertical-align: top;\n",
       "    }\n",
       "\n",
       "    .dataframe thead th {\n",
       "        text-align: right;\n",
       "    }\n",
       "</style>\n",
       "<table border=\"1\" class=\"dataframe\">\n",
       "  <thead>\n",
       "    <tr style=\"text-align: right;\">\n",
       "      <th></th>\n",
       "      <th>review_id</th>\n",
       "      <th>star_rating</th>\n",
       "      <th>Helpful_votes</th>\n",
       "      <th>total_votes</th>\n",
       "      <th>vine</th>\n",
       "      <th>verified_purchase</th>\n",
       "    </tr>\n",
       "  </thead>\n",
       "  <tbody>\n",
       "    <tr>\n",
       "      <th>116</th>\n",
       "      <td>R2WOW0TURNXB26</td>\n",
       "      <td>3</td>\n",
       "      <td>54.0</td>\n",
       "      <td>59.0</td>\n",
       "      <td>N</td>\n",
       "      <td>Y</td>\n",
       "    </tr>\n",
       "    <tr>\n",
       "      <th>197</th>\n",
       "      <td>R13VL62Y2HBQ0B</td>\n",
       "      <td>5</td>\n",
       "      <td>15.0</td>\n",
       "      <td>21.0</td>\n",
       "      <td>N</td>\n",
       "      <td>Y</td>\n",
       "    </tr>\n",
       "    <tr>\n",
       "      <th>307</th>\n",
       "      <td>R22G55KAPZKJQV</td>\n",
       "      <td>4</td>\n",
       "      <td>20.0</td>\n",
       "      <td>21.0</td>\n",
       "      <td>N</td>\n",
       "      <td>Y</td>\n",
       "    </tr>\n",
       "    <tr>\n",
       "      <th>1012</th>\n",
       "      <td>R1610PGTJS7G3N</td>\n",
       "      <td>2</td>\n",
       "      <td>28.0</td>\n",
       "      <td>44.0</td>\n",
       "      <td>N</td>\n",
       "      <td>Y</td>\n",
       "    </tr>\n",
       "    <tr>\n",
       "      <th>2265</th>\n",
       "      <td>RLQL04BL0QXOJ</td>\n",
       "      <td>4</td>\n",
       "      <td>45.0</td>\n",
       "      <td>47.0</td>\n",
       "      <td>N</td>\n",
       "      <td>Y</td>\n",
       "    </tr>\n",
       "    <tr>\n",
       "      <th>...</th>\n",
       "      <td>...</td>\n",
       "      <td>...</td>\n",
       "      <td>...</td>\n",
       "      <td>...</td>\n",
       "      <td>...</td>\n",
       "      <td>...</td>\n",
       "    </tr>\n",
       "    <tr>\n",
       "      <th>9002011</th>\n",
       "      <td>RT1VF6PGA6Q13</td>\n",
       "      <td>5</td>\n",
       "      <td>30.0</td>\n",
       "      <td>32.0</td>\n",
       "      <td>N</td>\n",
       "      <td>N</td>\n",
       "    </tr>\n",
       "    <tr>\n",
       "      <th>9002012</th>\n",
       "      <td>R3IP9GXD7NYPYR</td>\n",
       "      <td>5</td>\n",
       "      <td>22.0</td>\n",
       "      <td>22.0</td>\n",
       "      <td>N</td>\n",
       "      <td>N</td>\n",
       "    </tr>\n",
       "    <tr>\n",
       "      <th>9002013</th>\n",
       "      <td>R344669W03QZ47</td>\n",
       "      <td>4</td>\n",
       "      <td>35.0</td>\n",
       "      <td>37.0</td>\n",
       "      <td>N</td>\n",
       "      <td>N</td>\n",
       "    </tr>\n",
       "    <tr>\n",
       "      <th>9002015</th>\n",
       "      <td>R395SO3AVL1RRC</td>\n",
       "      <td>5</td>\n",
       "      <td>72.0</td>\n",
       "      <td>74.0</td>\n",
       "      <td>N</td>\n",
       "      <td>N</td>\n",
       "    </tr>\n",
       "    <tr>\n",
       "      <th>9002019</th>\n",
       "      <td>R3HA5IXDCVJ65K</td>\n",
       "      <td>5</td>\n",
       "      <td>24.0</td>\n",
       "      <td>25.0</td>\n",
       "      <td>N</td>\n",
       "      <td>N</td>\n",
       "    </tr>\n",
       "  </tbody>\n",
       "</table>\n",
       "<p>64968 rows × 6 columns</p>\n",
       "</div>"
      ],
      "text/plain": [
       "              review_id star_rating  Helpful_votes  total_votes vine  \\\n",
       "116      R2WOW0TURNXB26           3           54.0         59.0    N   \n",
       "197      R13VL62Y2HBQ0B           5           15.0         21.0    N   \n",
       "307      R22G55KAPZKJQV           4           20.0         21.0    N   \n",
       "1012     R1610PGTJS7G3N           2           28.0         44.0    N   \n",
       "2265      RLQL04BL0QXOJ           4           45.0         47.0    N   \n",
       "...                 ...         ...            ...          ...  ...   \n",
       "9002011   RT1VF6PGA6Q13           5           30.0         32.0    N   \n",
       "9002012  R3IP9GXD7NYPYR           5           22.0         22.0    N   \n",
       "9002013  R344669W03QZ47           4           35.0         37.0    N   \n",
       "9002015  R395SO3AVL1RRC           5           72.0         74.0    N   \n",
       "9002019  R3HA5IXDCVJ65K           5           24.0         25.0    N   \n",
       "\n",
       "        verified_purchase  \n",
       "116                     Y  \n",
       "197                     Y  \n",
       "307                     Y  \n",
       "1012                    Y  \n",
       "2265                    Y  \n",
       "...                   ...  \n",
       "9002011                 N  \n",
       "9002012                 N  \n",
       "9002013                 N  \n",
       "9002015                 N  \n",
       "9002019                 N  \n",
       "\n",
       "[64968 rows x 6 columns]"
      ]
     },
     "execution_count": 43,
     "metadata": {},
     "output_type": "execute_result"
    }
   ],
   "source": [
    "vine_program_no = calc_rev_data[calc_rev_data[\"vine\"] == 'N']\n",
    "vine_program_no"
   ]
  },
  {
   "cell_type": "code",
   "execution_count": 71,
   "id": "cac1bc3c",
   "metadata": {},
   "outputs": [
    {
     "data": {
      "text/plain": [
       "64968"
      ]
     },
     "execution_count": 71,
     "metadata": {},
     "output_type": "execute_result"
    }
   ],
   "source": [
    "#Total reviews of Unpaid Participants\n",
    "total_n_reviews = vine_program_no.count()[\"review_id\"]\n",
    "total_n_reviews"
   ]
  },
  {
   "cell_type": "code",
   "execution_count": 73,
   "id": "aa1ee6d9",
   "metadata": {},
   "outputs": [
    {
     "data": {
      "text/plain": [
       "30543"
      ]
     },
     "execution_count": 73,
     "metadata": {},
     "output_type": "execute_result"
    }
   ],
   "source": [
    "#number of 5-star reviews of Unpaid participants\n",
    "n_fivestar_reviews = vine_program_no[(vine_program_no[\"star_rating\"] == '5')].count()[\"review_id\"]\n",
    "n_fivestar_reviews"
   ]
  },
  {
   "cell_type": "code",
   "execution_count": 74,
   "id": "b7a614fe",
   "metadata": {},
   "outputs": [
    {
     "data": {
      "text/plain": [
       "47.01237532323606"
      ]
     },
     "execution_count": 74,
     "metadata": {},
     "output_type": "execute_result"
    }
   ],
   "source": [
    "#precentage of five star reviews against the total of unpaid participants\n",
    "no_percent = n_fivestar_reviews / total_n_reviews * 100\n",
    "no_percent"
   ]
  },
  {
   "cell_type": "code",
   "execution_count": null,
   "id": "2de2d74b",
   "metadata": {},
   "outputs": [],
   "source": []
  }
 ],
 "metadata": {
  "kernelspec": {
   "display_name": "PythonData",
   "language": "python",
   "name": "pythondata"
  },
  "language_info": {
   "codemirror_mode": {
    "name": "ipython",
    "version": 3
   },
   "file_extension": ".py",
   "mimetype": "text/x-python",
   "name": "python",
   "nbconvert_exporter": "python",
   "pygments_lexer": "ipython3",
   "version": "3.7.11"
  }
 },
 "nbformat": 4,
 "nbformat_minor": 5
}
